{
  "nbformat": 4,
  "nbformat_minor": 0,
  "metadata": {
    "colab": {
      "name": "クロス集計とグラフ化.ipynb",
      "provenance": [],
      "authorship_tag": "ABX9TyOCy2irRJ1UuH5WeTzjiZmc",
      "include_colab_link": true
    },
    "kernelspec": {
      "name": "python3",
      "display_name": "Python 3"
    },
    "language_info": {
      "name": "python"
    }
  },
  "cells": [
    {
      "cell_type": "markdown",
      "metadata": {
        "id": "view-in-github",
        "colab_type": "text"
      },
      "source": [
        "<a href=\"https://colab.research.google.com/github/kameoman/Bookers/blob/main/%E3%82%AF%E3%83%AD%E3%82%B9%E9%9B%86%E8%A8%88%E3%81%A8%E3%82%B0%E3%83%A9%E3%83%95%E5%8C%96.ipynb\" target=\"_parent\"><img src=\"https://colab.research.google.com/assets/colab-badge.svg\" alt=\"Open In Colab\"/></a>"
      ]
    },
    {
      "cell_type": "code",
      "metadata": {
        "id": "aGDID76Bi4lm"
      },
      "source": [
        "import pandas as pd\n",
        "from glob import glob"
      ],
      "execution_count": 1,
      "outputs": []
    },
    {
      "cell_type": "code",
      "metadata": {
        "colab": {
          "base_uri": "https://localhost:8080/"
        },
        "id": "TkfEMEQxi6Qt",
        "outputId": "0cf8f0f5-c792-4ea3-e106-1a2f13872d46"
      },
      "source": [
        "filepaths = glob('請求書*.xlsx')\n",
        "filepaths"
      ],
      "execution_count": 6,
      "outputs": [
        {
          "output_type": "execute_result",
          "data": {
            "text/plain": [
              "['請求書_12月_TTTInc.xlsx',\n",
              " '請求書_10月_TTTInc.xlsx',\n",
              " '請求書_11月_XYZ株式会社.xlsx',\n",
              " '請求書_12月_株式会社ABC.xlsx',\n",
              " '請求書_11月_ICHIGO.xlsx',\n",
              " '請求書_12月_CDF商事.xlsx',\n",
              " '請求書_12月_STR_Corp.xlsx']"
            ]
          },
          "metadata": {},
          "execution_count": 6
        }
      ]
    },
    {
      "cell_type": "code",
      "metadata": {
        "id": "uBg35ehSi6OH"
      },
      "source": [
        "def extract(filepath):\n",
        "    _df = pd.read_excel(filepath)\n",
        "    columns = _df.iloc[10, [1,2,4,10,11,14]]\n",
        "    df = _df.iloc[11:23, [1,2,4,10,11,14]]\n",
        "    df.columns = columns\n",
        "    df['企業名'] = _df.iloc[2,0]\n",
        "    df['企業コード'] = _df.iloc[3,4]\n",
        "    df['請求書No'] = _df.iloc[2,12]\n",
        "    df['発行日'] = _df.iloc[3,12]\n",
        "    df['発行者'] = _df.iloc[4,12]\n",
        "    df['発行者コード'] = _df.iloc[4,13]\n",
        "    return df"
      ],
      "execution_count": 7,
      "outputs": []
    },
    {
      "cell_type": "code",
      "metadata": {
        "id": "dUdmJXusi6Lg"
      },
      "source": [
        "df = pd.DataFrame()\n",
        "\n",
        "for filepath in filepaths:\n",
        "    df = pd.concat([df, extract(filepath)])"
      ],
      "execution_count": 8,
      "outputs": []
    },
    {
      "cell_type": "code",
      "metadata": {
        "colab": {
          "base_uri": "https://localhost:8080/"
        },
        "id": "D2EyNCfri6JN",
        "outputId": "d8d498fe-14e1-42a5-e8b1-666defab169a"
      },
      "source": [
        "len(df)"
      ],
      "execution_count": 9,
      "outputs": [
        {
          "output_type": "execute_result",
          "data": {
            "text/plain": [
              "84"
            ]
          },
          "metadata": {},
          "execution_count": 9
        }
      ]
    },
    {
      "cell_type": "code",
      "metadata": {
        "colab": {
          "base_uri": "https://localhost:8080/",
          "height": 354
        },
        "id": "SVHgxvR9i6G8",
        "outputId": "9e903a34-0cee-464d-f43c-5a0580897dfc"
      },
      "source": [
        "df = df.dropna()\n",
        "df.tail()"
      ],
      "execution_count": 11,
      "outputs": [
        {
          "output_type": "execute_result",
          "data": {
            "text/html": [
              "<div>\n",
              "<style scoped>\n",
              "    .dataframe tbody tr th:only-of-type {\n",
              "        vertical-align: middle;\n",
              "    }\n",
              "\n",
              "    .dataframe tbody tr th {\n",
              "        vertical-align: top;\n",
              "    }\n",
              "\n",
              "    .dataframe thead th {\n",
              "        text-align: right;\n",
              "    }\n",
              "</style>\n",
              "<table border=\"1\" class=\"dataframe\">\n",
              "  <thead>\n",
              "    <tr style=\"text-align: right;\">\n",
              "      <th>10</th>\n",
              "      <th>日付</th>\n",
              "      <th>商品コード</th>\n",
              "      <th>品名</th>\n",
              "      <th>数量[L] or [-]</th>\n",
              "      <th>単価[¥/L] or [¥]</th>\n",
              "      <th>金額</th>\n",
              "      <th>企業名</th>\n",
              "      <th>企業コード</th>\n",
              "      <th>請求書No</th>\n",
              "      <th>発行日</th>\n",
              "      <th>発行者</th>\n",
              "      <th>発行者コード</th>\n",
              "    </tr>\n",
              "  </thead>\n",
              "  <tbody>\n",
              "    <tr>\n",
              "      <th>15</th>\n",
              "      <td>2020-12-20 00:00:00</td>\n",
              "      <td>GSL0001</td>\n",
              "      <td>レギュラー</td>\n",
              "      <td>20</td>\n",
              "      <td>120</td>\n",
              "      <td>2400</td>\n",
              "      <td>STR Corp.</td>\n",
              "      <td>9</td>\n",
              "      <td>003</td>\n",
              "      <td>2020/12/28</td>\n",
              "      <td>桜田</td>\n",
              "      <td>5.0</td>\n",
              "    </tr>\n",
              "    <tr>\n",
              "      <th>16</th>\n",
              "      <td>2020-12-28 00:00:00</td>\n",
              "      <td>CMT0002</td>\n",
              "      <td>洗車 B</td>\n",
              "      <td>1</td>\n",
              "      <td>1500</td>\n",
              "      <td>1500</td>\n",
              "      <td>STR Corp.</td>\n",
              "      <td>9</td>\n",
              "      <td>003</td>\n",
              "      <td>2020/12/28</td>\n",
              "      <td>桜田</td>\n",
              "      <td>5.0</td>\n",
              "    </tr>\n",
              "    <tr>\n",
              "      <th>17</th>\n",
              "      <td>2020-12-28 00:00:00</td>\n",
              "      <td>GDS0003</td>\n",
              "      <td>スナック</td>\n",
              "      <td>10</td>\n",
              "      <td>100</td>\n",
              "      <td>1000</td>\n",
              "      <td>STR Corp.</td>\n",
              "      <td>9</td>\n",
              "      <td>003</td>\n",
              "      <td>2020/12/28</td>\n",
              "      <td>桜田</td>\n",
              "      <td>5.0</td>\n",
              "    </tr>\n",
              "    <tr>\n",
              "      <th>18</th>\n",
              "      <td>2020-12-28 00:00:00</td>\n",
              "      <td>CMT0005</td>\n",
              "      <td>タイヤ交換</td>\n",
              "      <td>1</td>\n",
              "      <td>4000</td>\n",
              "      <td>4000</td>\n",
              "      <td>STR Corp.</td>\n",
              "      <td>9</td>\n",
              "      <td>003</td>\n",
              "      <td>2020/12/28</td>\n",
              "      <td>桜田</td>\n",
              "      <td>5.0</td>\n",
              "    </tr>\n",
              "    <tr>\n",
              "      <th>19</th>\n",
              "      <td>2020-12-28 00:00:00</td>\n",
              "      <td>GDS0001</td>\n",
              "      <td>タイヤ</td>\n",
              "      <td>4</td>\n",
              "      <td>8000</td>\n",
              "      <td>32000</td>\n",
              "      <td>STR Corp.</td>\n",
              "      <td>9</td>\n",
              "      <td>003</td>\n",
              "      <td>2020/12/28</td>\n",
              "      <td>桜田</td>\n",
              "      <td>5.0</td>\n",
              "    </tr>\n",
              "  </tbody>\n",
              "</table>\n",
              "</div>"
            ],
            "text/plain": [
              "10                   日付    商品コード     品名  ...         発行日 発行者 発行者コード\n",
              "15  2020-12-20 00:00:00  GSL0001  レギュラー  ...  2020/12/28  桜田    5.0\n",
              "16  2020-12-28 00:00:00  CMT0002   洗車 B  ...  2020/12/28  桜田    5.0\n",
              "17  2020-12-28 00:00:00  GDS0003   スナック  ...  2020/12/28  桜田    5.0\n",
              "18  2020-12-28 00:00:00  CMT0005  タイヤ交換  ...  2020/12/28  桜田    5.0\n",
              "19  2020-12-28 00:00:00  GDS0001    タイヤ  ...  2020/12/28  桜田    5.0\n",
              "\n",
              "[5 rows x 12 columns]"
            ]
          },
          "metadata": {},
          "execution_count": 11
        }
      ]
    },
    {
      "cell_type": "code",
      "metadata": {
        "id": "wpOJizAYi6Es"
      },
      "source": [
        "df = df.reset_index(drop=True)"
      ],
      "execution_count": 13,
      "outputs": []
    },
    {
      "cell_type": "code",
      "metadata": {
        "id": "wVhEeA5Yi6Cn"
      },
      "source": [
        "df = df.iloc[:, [6,7,8,9,10,11,0,1,2,3,4,5]]"
      ],
      "execution_count": 15,
      "outputs": []
    },
    {
      "cell_type": "code",
      "metadata": {
        "id": "raRmfZwHi6AK"
      },
      "source": [
        ""
      ],
      "execution_count": null,
      "outputs": []
    },
    {
      "cell_type": "code",
      "metadata": {
        "id": "ddx6k_zyi590"
      },
      "source": [
        ""
      ],
      "execution_count": null,
      "outputs": []
    },
    {
      "cell_type": "code",
      "metadata": {
        "id": "ktaKM3Fvi57k"
      },
      "source": [
        ""
      ],
      "execution_count": null,
      "outputs": []
    },
    {
      "cell_type": "code",
      "metadata": {
        "id": "HemiRjqji55M"
      },
      "source": [
        ""
      ],
      "execution_count": null,
      "outputs": []
    },
    {
      "cell_type": "code",
      "metadata": {
        "id": "P1ffEwKhi53A"
      },
      "source": [
        ""
      ],
      "execution_count": null,
      "outputs": []
    },
    {
      "cell_type": "code",
      "metadata": {
        "id": "VWerIc9li50a"
      },
      "source": [
        ""
      ],
      "execution_count": null,
      "outputs": []
    },
    {
      "cell_type": "code",
      "metadata": {
        "id": "Yf3FHqgGi5xx"
      },
      "source": [
        ""
      ],
      "execution_count": null,
      "outputs": []
    },
    {
      "cell_type": "code",
      "metadata": {
        "id": "uy19WkkQi5kK"
      },
      "source": [
        ""
      ],
      "execution_count": null,
      "outputs": []
    },
    {
      "cell_type": "code",
      "metadata": {
        "id": "UjHNb2vii5h4"
      },
      "source": [
        ""
      ],
      "execution_count": null,
      "outputs": []
    },
    {
      "cell_type": "code",
      "metadata": {
        "id": "Vdr71-RVi5fm"
      },
      "source": [
        ""
      ],
      "execution_count": null,
      "outputs": []
    },
    {
      "cell_type": "code",
      "metadata": {
        "id": "A620Wzsqi5da"
      },
      "source": [
        ""
      ],
      "execution_count": null,
      "outputs": []
    },
    {
      "cell_type": "code",
      "metadata": {
        "id": "twbKQ1Qwi5bT"
      },
      "source": [
        ""
      ],
      "execution_count": null,
      "outputs": []
    },
    {
      "cell_type": "code",
      "metadata": {
        "id": "v4exLyVCi5Y6"
      },
      "source": [
        ""
      ],
      "execution_count": null,
      "outputs": []
    },
    {
      "cell_type": "code",
      "metadata": {
        "id": "SIH2AYbTi5W0"
      },
      "source": [
        ""
      ],
      "execution_count": null,
      "outputs": []
    },
    {
      "cell_type": "code",
      "metadata": {
        "id": "T2xSqrGfi5Uc"
      },
      "source": [
        ""
      ],
      "execution_count": null,
      "outputs": []
    },
    {
      "cell_type": "code",
      "metadata": {
        "id": "f5rL9UNti5SO"
      },
      "source": [
        ""
      ],
      "execution_count": null,
      "outputs": []
    },
    {
      "cell_type": "code",
      "metadata": {
        "id": "rK0zBGI9i5QC"
      },
      "source": [
        ""
      ],
      "execution_count": null,
      "outputs": []
    },
    {
      "cell_type": "code",
      "metadata": {
        "id": "h5LNR5SJi5Km"
      },
      "source": [
        ""
      ],
      "execution_count": null,
      "outputs": []
    },
    {
      "cell_type": "code",
      "metadata": {
        "id": "fJ52Y-bRi5IU"
      },
      "source": [
        ""
      ],
      "execution_count": null,
      "outputs": []
    }
  ]
}